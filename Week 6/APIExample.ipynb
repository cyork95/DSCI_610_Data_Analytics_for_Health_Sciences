{
 "cells": [
  {
   "cell_type": "code",
   "execution_count": 2,
   "id": "e48226c9",
   "metadata": {},
   "outputs": [],
   "source": [
    "import requests\n",
    "import pandas as pd"
   ]
  },
  {
   "cell_type": "code",
   "execution_count": 3,
   "id": "40e664ae",
   "metadata": {},
   "outputs": [],
   "source": [
    "url = 'https://api.census.gov/data/timeseries/healthins/sahie?get=NIC_PT,NUI_PT,NAME&for=county:*&in=state:18&time=2020'\n",
    "response = requests.get(url)"
   ]
  },
  {
   "cell_type": "code",
   "execution_count": 4,
   "id": "335a1ff9",
   "metadata": {},
   "outputs": [
    {
     "data": {
      "text/plain": "(200, '')"
     },
     "execution_count": 4,
     "metadata": {},
     "output_type": "execute_result"
    }
   ],
   "source": [
    "response.status_code,response.reason"
   ]
  },
  {
   "cell_type": "code",
   "execution_count": 5,
   "id": "5445f3d2",
   "metadata": {},
   "outputs": [
    {
     "data": {
      "text/plain": "[['NIC_PT', 'NUI_PT', 'NAME', 'time', 'state', 'county'],\n ['25874', '3632', 'Adams County, IN', '2020', '18', '001'],\n ['289194', '29249', 'Allen County, IN', '2020', '18', '003'],\n ['63868', '6193', 'Bartholomew County, IN', '2020', '18', '005'],\n ['6310', '766', 'Benton County, IN', '2020', '18', '007'],\n ['8213', '787', 'Blackford County, IN', '2020', '18', '009'],\n ['55856', '4151', 'Boone County, IN', '2020', '18', '011'],\n ['10099', '1075', 'Brown County, IN', '2020', '18', '013'],\n ['14399', '1596', 'Carroll County, IN', '2020', '18', '015'],\n ['26075', '3572', 'Cass County, IN', '2020', '18', '017'],\n ['89737', '8827', 'Clark County, IN', '2020', '18', '019'],\n ['19221', '1807', 'Clay County, IN', '2020', '18', '021'],\n ['22961', '3205', 'Clinton County, IN', '2020', '18', '023'],\n ['7336', '966', 'Crawford County, IN', '2020', '18', '025'],\n ['22227', '5448', 'Daviess County, IN', '2020', '18', '027'],\n ['37179', '3123', 'Dearborn County, IN', '2020', '18', '029'],\n ['19894', '1891', 'Decatur County, IN', '2020', '18', '031'],\n ['33071', '2895', 'De Kalb County, IN', '2020', '18', '033'],\n ['77967', '7204', 'Delaware County, IN', '2020', '18', '035'],\n ['31226', '3146', 'Dubois County, IN', '2020', '18', '037'],\n ['142595', '28438', 'Elkhart County, IN', '2020', '18', '039'],\n ['16174', '1552', 'Fayette County, IN', '2020', '18', '041'],\n ['60088', '4785', 'Floyd County, IN', '2020', '18', '043'],\n ['11733', '1263', 'Fountain County, IN', '2020', '18', '045'],\n ['16649', '1636', 'Franklin County, IN', '2020', '18', '047'],\n ['14043', '1638', 'Fulton County, IN', '2020', '18', '049'],\n ['25414', '1832', 'Gibson County, IN', '2020', '18', '051'],\n ['43488', '3911', 'Grant County, IN', '2020', '18', '053'],\n ['23155', '2182', 'Greene County, IN', '2020', '18', '055'],\n ['288811', '13942', 'Hamilton County, IN', '2020', '18', '057'],\n ['61578', '4398', 'Hancock County, IN', '2020', '18', '059'],\n ['29925', '2812', 'Harrison County, IN', '2020', '18', '061'],\n ['136162', '9131', 'Hendricks County, IN', '2020', '18', '063'],\n ['32247', '2914', 'Henry County, IN', '2020', '18', '065'],\n ['59683', '5249', 'Howard County, IN', '2020', '18', '067'],\n ['26352', '2422', 'Huntington County, IN', '2020', '18', '069'],\n ['32664', '3664', 'Jackson County, IN', '2020', '18', '071'],\n ['23765', '2641', 'Jasper County, IN', '2020', '18', '073'],\n ['14711', '1613', 'Jay County, IN', '2020', '18', '075'],\n ['21964', '2176', 'Jefferson County, IN', '2020', '18', '077'],\n ['20560', '1892', 'Jennings County, IN', '2020', '18', '079'],\n ['125531', '9816', 'Johnson County, IN', '2020', '18', '081'],\n ['25122', '2777', 'Knox County, IN', '2020', '18', '083'],\n ['55582', '8170', 'Kosciusko County, IN', '2020', '18', '085'],\n ['24322', '9735', 'Lagrange County, IN', '2020', '18', '087'],\n ['360111', '31606', 'Lake County, IN', '2020', '18', '089'],\n ['75442', '6819', 'La Porte County, IN', '2020', '18', '091'],\n ['32391', '3143', 'Lawrence County, IN', '2020', '18', '093'],\n ['89484', '9117', 'Madison County, IN', '2020', '18', '095'],\n ['732655', '75897', 'Marion County, IN', '2020', '18', '097'],\n ['32144', '4799', 'Marshall County, IN', '2020', '18', '099'],\n ['7131', '722', 'Martin County, IN', '2020', '18', '101'],\n ['23001', '2457', 'Miami County, IN', '2020', '18', '103'],\n ['102904', '10746', 'Monroe County, IN', '2020', '18', '105'],\n ['26893', '3147', 'Montgomery County, IN', '2020', '18', '107'],\n ['52797', '4880', 'Morgan County, IN', '2020', '18', '109'],\n ['9643', '1306', 'Newton County, IN', '2020', '18', '111'],\n ['34538', '4493', 'Noble County, IN', '2020', '18', '113'],\n ['4064', '421', 'Ohio County, IN', '2020', '18', '115'],\n ['13682', '1679', 'Orange County, IN', '2020', '18', '117'],\n ['14557', '1813', 'Owen County, IN', '2020', '18', '119'],\n ['10465', '1375', 'Parke County, IN', '2020', '18', '121'],\n ['13040', '955', 'Perry County, IN', '2020', '18', '123'],\n ['8687', '1016', 'Pike County, IN', '2020', '18', '125'],\n ['129975', '8762', 'Porter County, IN', '2020', '18', '127'],\n ['18877', '1290', 'Posey County, IN', '2020', '18', '129'],\n ['8686', '921', 'Pulaski County, IN', '2020', '18', '131'],\n ['24309', '2085', 'Putnam County, IN', '2020', '18', '133'],\n ['16926', '1858', 'Randolph County, IN', '2020', '18', '135'],\n ['20750', '2113', 'Ripley County, IN', '2020', '18', '137'],\n ['11971', '1309', 'Rush County, IN', '2020', '18', '139'],\n ['196893', '18026', 'St. Joseph County, IN', '2020', '18', '141'],\n ['17670', '1660', 'Scott County, IN', '2020', '18', '143'],\n ['33002', '3260', 'Shelby County, IN', '2020', '18', '145'],\n ['14549', '1398', 'Spencer County, IN', '2020', '18', '147'],\n ['16588', '1746', 'Starke County, IN', '2020', '18', '149'],\n ['23670', '2323', 'Steuben County, IN', '2020', '18', '151'],\n ['13320', '1226', 'Sullivan County, IN', '2020', '18', '153'],\n ['7660', '926', 'Switzerland County, IN', '2020', '18', '155'],\n ['144286', '12553', 'Tippecanoe County, IN', '2020', '18', '157'],\n ['10821', '1015', 'Tipton County, IN', '2020', '18', '159'],\n ['5037', '581', 'Union County, IN', '2020', '18', '161'],\n ['131444', '12434', 'Vanderburgh County, IN', '2020', '18', '163'],\n ['11013', '1036', 'Vermillion County, IN', '2020', '18', '165'],\n ['71521', '7740', 'Vigo County, IN', '2020', '18', '167'],\n ['20603', '2087', 'Wabash County, IN', '2020', '18', '169'],\n ['5940', '471', 'Warren County, IN', '2020', '18', '171'],\n ['48508', '3475', 'Warrick County, IN', '2020', '18', '173'],\n ['20592', '2204', 'Washington County, IN', '2020', '18', '175'],\n ['45812', '4834', 'Wayne County, IN', '2020', '18', '177'],\n ['20858', '1746', 'Wells County, IN', '2020', '18', '179'],\n ['16858', '1991', 'White County, IN', '2020', '18', '181'],\n ['25366', '2297', 'Whitley County, IN', '2020', '18', '183']]"
     },
     "execution_count": 5,
     "metadata": {},
     "output_type": "execute_result"
    }
   ],
   "source": [
    "d = response.json()\n",
    "d"
   ]
  },
  {
   "cell_type": "code",
   "execution_count": 6,
   "id": "4595bdfb",
   "metadata": {},
   "outputs": [
    {
     "data": {
      "text/plain": "         0       1                       2     3      4       5\n0   NIC_PT  NUI_PT                    NAME  time  state  county\n1    25874    3632        Adams County, IN  2020     18     001\n2   289194   29249        Allen County, IN  2020     18     003\n3    63868    6193  Bartholomew County, IN  2020     18     005\n4     6310     766       Benton County, IN  2020     18     007\n..     ...     ...                     ...   ...    ...     ...\n88   20592    2204   Washington County, IN  2020     18     175\n89   45812    4834        Wayne County, IN  2020     18     177\n90   20858    1746        Wells County, IN  2020     18     179\n91   16858    1991        White County, IN  2020     18     181\n92   25366    2297      Whitley County, IN  2020     18     183\n\n[93 rows x 6 columns]",
      "text/html": "<div>\n<style scoped>\n    .dataframe tbody tr th:only-of-type {\n        vertical-align: middle;\n    }\n\n    .dataframe tbody tr th {\n        vertical-align: top;\n    }\n\n    .dataframe thead th {\n        text-align: right;\n    }\n</style>\n<table border=\"1\" class=\"dataframe\">\n  <thead>\n    <tr style=\"text-align: right;\">\n      <th></th>\n      <th>0</th>\n      <th>1</th>\n      <th>2</th>\n      <th>3</th>\n      <th>4</th>\n      <th>5</th>\n    </tr>\n  </thead>\n  <tbody>\n    <tr>\n      <th>0</th>\n      <td>NIC_PT</td>\n      <td>NUI_PT</td>\n      <td>NAME</td>\n      <td>time</td>\n      <td>state</td>\n      <td>county</td>\n    </tr>\n    <tr>\n      <th>1</th>\n      <td>25874</td>\n      <td>3632</td>\n      <td>Adams County, IN</td>\n      <td>2020</td>\n      <td>18</td>\n      <td>001</td>\n    </tr>\n    <tr>\n      <th>2</th>\n      <td>289194</td>\n      <td>29249</td>\n      <td>Allen County, IN</td>\n      <td>2020</td>\n      <td>18</td>\n      <td>003</td>\n    </tr>\n    <tr>\n      <th>3</th>\n      <td>63868</td>\n      <td>6193</td>\n      <td>Bartholomew County, IN</td>\n      <td>2020</td>\n      <td>18</td>\n      <td>005</td>\n    </tr>\n    <tr>\n      <th>4</th>\n      <td>6310</td>\n      <td>766</td>\n      <td>Benton County, IN</td>\n      <td>2020</td>\n      <td>18</td>\n      <td>007</td>\n    </tr>\n    <tr>\n      <th>...</th>\n      <td>...</td>\n      <td>...</td>\n      <td>...</td>\n      <td>...</td>\n      <td>...</td>\n      <td>...</td>\n    </tr>\n    <tr>\n      <th>88</th>\n      <td>20592</td>\n      <td>2204</td>\n      <td>Washington County, IN</td>\n      <td>2020</td>\n      <td>18</td>\n      <td>175</td>\n    </tr>\n    <tr>\n      <th>89</th>\n      <td>45812</td>\n      <td>4834</td>\n      <td>Wayne County, IN</td>\n      <td>2020</td>\n      <td>18</td>\n      <td>177</td>\n    </tr>\n    <tr>\n      <th>90</th>\n      <td>20858</td>\n      <td>1746</td>\n      <td>Wells County, IN</td>\n      <td>2020</td>\n      <td>18</td>\n      <td>179</td>\n    </tr>\n    <tr>\n      <th>91</th>\n      <td>16858</td>\n      <td>1991</td>\n      <td>White County, IN</td>\n      <td>2020</td>\n      <td>18</td>\n      <td>181</td>\n    </tr>\n    <tr>\n      <th>92</th>\n      <td>25366</td>\n      <td>2297</td>\n      <td>Whitley County, IN</td>\n      <td>2020</td>\n      <td>18</td>\n      <td>183</td>\n    </tr>\n  </tbody>\n</table>\n<p>93 rows × 6 columns</p>\n</div>"
     },
     "execution_count": 6,
     "metadata": {},
     "output_type": "execute_result"
    }
   ],
   "source": [
    "df = pd.DataFrame(d)\n",
    "df"
   ]
  },
  {
   "cell_type": "code",
   "execution_count": 7,
   "id": "19b78970",
   "metadata": {},
   "outputs": [],
   "source": [
    "df.to_csv('hin_in.csv')"
   ]
  },
  {
   "cell_type": "code",
   "execution_count": null,
   "id": "ded1d212",
   "metadata": {},
   "outputs": [],
   "source": []
  }
 ],
 "metadata": {
  "kernelspec": {
   "display_name": "Python 3 (ipykernel)",
   "language": "python",
   "name": "python3"
  },
  "language_info": {
   "codemirror_mode": {
    "name": "ipython",
    "version": 3
   },
   "file_extension": ".py",
   "mimetype": "text/x-python",
   "name": "python",
   "nbconvert_exporter": "python",
   "pygments_lexer": "ipython3",
   "version": "3.9.13"
  }
 },
 "nbformat": 4,
 "nbformat_minor": 5
}
